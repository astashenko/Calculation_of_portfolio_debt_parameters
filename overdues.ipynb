{
 "cells": [
  {
   "cell_type": "code",
   "execution_count": 10,
   "metadata": {},
   "outputs": [],
   "source": [
    "import pandas as pd\n",
    "import numpy as np\n",
    "import re\n",
    "import cx_Oracle\n",
    "import tqdm\n",
    "from tqdm import tqdm\n",
    "\n",
    "%run params.ipynb\n",
    "cnxn = cx_Oracle.connect(obi_login, obi_pw, BD, encoding=\"UTF-8\")   \n",
    "\n",
    "def prError(s): print(\"\\033[91m {}\\033[00m\" .format(s))"
   ]
  },
  {
   "cell_type": "code",
   "execution_count": 11,
   "metadata": {},
   "outputs": [],
   "source": [
    "def Check_length(len1, len2):\n",
    "    if (len1 != len2):\n",
    "        prError(\"Ошибка соединения:\")\n",
    "        print(len1)\n",
    "        print(len2)"
   ]
  },
  {
   "cell_type": "markdown",
   "metadata": {},
   "source": [
    "##### Шаг 1. Подготовка вспомогательной таблицы, строки которой содержат каждый договор CONTRACT_KEY с датой срезов (все)"
   ]
  },
  {
   "cell_type": "code",
   "execution_count": 12,
   "metadata": {},
   "outputs": [],
   "source": [
    "# all the tables with active portfolio of leasing cars on the cut dates from bogovich\n",
    "\n",
    "# tables = list(['TABLE_31012017_2','TABLE_28022017_2','TABLE_31032017_2','TABLE_30042017_2',\n",
    "#                'TABLE_31052017_2','TABLE_30062017_2','TABLE_31072017_2','TABLE_31082017_2','TABLE_30092017_2',\n",
    "#                'TABLE_31102017_2','TABLE_30112017_2','TABLE_31122017_2','TABLE_31012018_2','TABLE_28022018_2',\n",
    "#                'TABLE_31032018_2','TABLE_30042018_2','TABLE_31052018_2','TABLE_30062018_2','TABLE_31072018_2',\n",
    "#                'TABLE_31082018_2','TABLE_30092018_2','TABLE_31102018_2','TABLE_30112018_2','TABLE_31122018_2',\n",
    "#                'TABLE_31012019_2','TABLE_28022019_2','TABLE_31032019_2','TABLE_30042019_2','TABLE_31052019_2',\n",
    "#                'TABLE_30062019_2','TABLE_31072019_2','TABLE_31082019_2','TABLE_30092019_2','TABLE_31102019_2',\n",
    "#                'TABLE_30112019_2','TABLE_31122019_2','TABLE_31012020_2','TABLE_29022020_2','TABLE_31032020_2',\n",
    "#                'TABLE_30042020_2','TABLE_31052020_2','TABLE_30062020_2','TABLE_31072020_2','TABLE_31082020_2',\n",
    "#                'TABLE_30092020_2','TABLE_31102020_2','TABLE_30112020_2','TABLE_31122020_2','TABLE_31012021_2',\n",
    "#                'TABLE_28022021_2','TABLE_31032021_2','TABLE_30042021_2','TABLE_31052021_2','TABLE_30062021_2',\n",
    "#                'TABLE_31072021_2','TABLE_31082021_2','TABLE_30092021_2','TABLE_31102021_2','TABLE_30112021_2',\n",
    "#                'TABLE_31122021_2'\n",
    "# ])\n",
    "\n",
    "tables = list(['TABLE_31012022_2', 'TABLE_28022022_2', 'TABLE_31032022_2', 'TABLE_30042022_2', 'TABLE_31052022_2', 'TABLE_30062022_2', 'TABLE_31072022_2'])\n",
    "# tables = list(['TABLE_31012022_2']) # для тестирования"
   ]
  },
  {
   "cell_type": "code",
   "execution_count": 13,
   "metadata": {},
   "outputs": [
    {
     "data": {
      "text/html": [
       "<div>\n",
       "<style scoped>\n",
       "    .dataframe tbody tr th:only-of-type {\n",
       "        vertical-align: middle;\n",
       "    }\n",
       "\n",
       "    .dataframe tbody tr th {\n",
       "        vertical-align: top;\n",
       "    }\n",
       "\n",
       "    .dataframe thead th {\n",
       "        text-align: right;\n",
       "    }\n",
       "</style>\n",
       "<table border=\"1\" class=\"dataframe\">\n",
       "  <thead>\n",
       "    <tr style=\"text-align: right;\">\n",
       "      <th></th>\n",
       "      <th>Date</th>\n",
       "    </tr>\n",
       "  </thead>\n",
       "  <tbody>\n",
       "    <tr>\n",
       "      <th>0</th>\n",
       "      <td>2021-01-31</td>\n",
       "    </tr>\n",
       "    <tr>\n",
       "      <th>1</th>\n",
       "      <td>2021-02-28</td>\n",
       "    </tr>\n",
       "  </tbody>\n",
       "</table>\n",
       "</div>"
      ],
      "text/plain": [
       "        Date\n",
       "0 2021-01-31\n",
       "1 2021-02-28"
      ]
     },
     "execution_count": 13,
     "metadata": {},
     "output_type": "execute_result"
    }
   ],
   "source": [
    "# all the dates Series\n",
    "# Все срезы находятся в периоде  с 2017-2021 включительно, но поскольку необходимо рассчитать просрочку за последние 12 месяцев, то считаем за весь 2016 также\n",
    "\n",
    "import calendar\n",
    "from datetime import datetime\n",
    "\n",
    "# yearstart = 2016\n",
    "# yearend   = 2022\n",
    "\n",
    "yearstart = 2021\n",
    "yearend   = 2023 \n",
    "\n",
    "Dates = pd.DataFrame([datetime(year, month, calendar.monthrange(year, month)[1]) \n",
    "                    for year in range(yearstart, yearend) for month in range(1, 13)])\n",
    "Dates.columns = ['Date']\n",
    "Dates.head(2)\n",
    "\n"
   ]
  },
  {
   "cell_type": "code",
   "execution_count": 14,
   "metadata": {},
   "outputs": [
    {
     "name": "stderr",
     "output_type": "stream",
     "text": [
      "100%|\u001b[32m██████████\u001b[0m| 7/7 [00:06<00:00,  1.04it/s]\n"
     ]
    },
    {
     "data": {
      "text/plain": [
       "(33380, 1)"
      ]
     },
     "execution_count": 14,
     "metadata": {},
     "output_type": "execute_result"
    }
   ],
   "source": [
    "# read all the CONTRACT_KEYs from all the table\n",
    "# CONTRACT_KEY - первичный ключ для потрфеля, определяем для каких именно контрагентов нужна просрочка\n",
    "\n",
    "keys = pd.DataFrame()\n",
    "\n",
    "sql_query = \"select DISTINCT CONTRACT_KEY,  SLICE_DT FROM YBOGOVICH.SSS\"\n",
    "for table in tqdm(tables, colour= 'green'):\n",
    "    query = sql_query.replace('SSS', table);\n",
    "    data = pd.read_sql(query, cnxn)\n",
    "    keys = keys.append(data)  \n",
    "\n",
    "contracts = pd.DataFrame(pd.unique(keys['CONTRACT_KEY']), columns=['CONTRACT_KEY'])\n",
    "contracts.shape"
   ]
  },
  {
   "cell_type": "code",
   "execution_count": 15,
   "metadata": {},
   "outputs": [],
   "source": [
    "# join all CONTRACT_KEYs with all the dates , \n",
    "# because the overdues will be calculated for all the cut dates to find the maximums for 3, 6, 12 months\n",
    "# i - вспомогалтельный столбец для формирования таблицы для каждого 'CONTRACT_KEY' и каждой даты.\n",
    "# можно было использовать функцию itertools.product()\n",
    "\n",
    "contracts['i'] = 0\n",
    "Dates['i'] = 0\n",
    "\n",
    "Contracts_With_Dates= pd.merge(contracts, Dates, how = \"outer\" , on =['i'])[['CONTRACT_KEY', 'Date']]\n",
    "Contracts_With_Dates.head()\n",
    "Check_length(contracts.shape[0]*Dates.shape[0], Contracts_With_Dates.shape[0])"
   ]
  },
  {
   "cell_type": "markdown",
   "metadata": {},
   "source": [
    "##### Шаг 2. подготовка исключаемых CONTRACT_KEY"
   ]
  },
  {
   "cell_type": "markdown",
   "metadata": {},
   "source": [
    "Объяснение:\n",
    "В таблице DM.DM_DETAILS_DAILY есть такие строки, которые показывают просрочку в разрезе PAYMENT_NUM. c флагом PAY_FLG = 0\n",
    "однако платеж оплачен, так как за ним или перед идет  платеж с PAYMENT_NUM = 0. \n",
    "чтобы не усложнять алгоритм, и иметь возможность группировать по  PAYMENT_ITEM_KEY, такие договоры будут исключаться из расчета просрочки \n",
    "и показаны как имеющие 0 в просрочке. В противном случае они привносят ложно положительный результат"
   ]
  },
  {
   "cell_type": "code",
   "execution_count": 16,
   "metadata": {},
   "outputs": [
    {
     "data": {
      "text/plain": [
       "(342, 1)"
      ]
     },
     "execution_count": 16,
     "metadata": {},
     "output_type": "execute_result"
    }
   ],
   "source": [
    "sql_query =   \"\"\"SELECT DISTINCT CONTRACT_KEY\n",
    "   FROM DM.DM_DETAILS_DAILY\n",
    "  WHERE \n",
    "  PAYMENT_ITEM_KEY = 9\n",
    " AND PLAN_AMT IS  NULL \"\"\"\n",
    "excluded = pd.read_sql(sql_query, cnxn)\n",
    "excluded.shape"
   ]
  },
  {
   "cell_type": "markdown",
   "metadata": {},
   "source": [
    "##### Шаг 3. Считаем Сумму текущей просрочки "
   ]
  },
  {
   "cell_type": "code",
   "execution_count": 17,
   "metadata": {},
   "outputs": [
    {
     "name": "stderr",
     "output_type": "stream",
     "text": [
      "100%|\u001b[32m██████████\u001b[0m| 24/24 [00:48<00:00,  2.03s/it]"
     ]
    },
    {
     "name": "stdout",
     "output_type": "stream",
     "text": [
      "(433611, 3)\n"
     ]
    },
    {
     "name": "stderr",
     "output_type": "stream",
     "text": [
      "\n"
     ]
    },
    {
     "data": {
      "text/html": [
       "<div>\n",
       "<style scoped>\n",
       "    .dataframe tbody tr th:only-of-type {\n",
       "        vertical-align: middle;\n",
       "    }\n",
       "\n",
       "    .dataframe tbody tr th {\n",
       "        vertical-align: top;\n",
       "    }\n",
       "\n",
       "    .dataframe thead th {\n",
       "        text-align: right;\n",
       "    }\n",
       "</style>\n",
       "<table border=\"1\" class=\"dataframe\">\n",
       "  <thead>\n",
       "    <tr style=\"text-align: right;\">\n",
       "      <th></th>\n",
       "      <th>CONTRACT_KEY</th>\n",
       "      <th>ДАТАСРЕЗА</th>\n",
       "      <th>CURRENT_DEBT</th>\n",
       "    </tr>\n",
       "  </thead>\n",
       "  <tbody>\n",
       "    <tr>\n",
       "      <th>0</th>\n",
       "      <td>1462</td>\n",
       "      <td>2021-01-31</td>\n",
       "      <td>7962378.62</td>\n",
       "    </tr>\n",
       "    <tr>\n",
       "      <th>1</th>\n",
       "      <td>1734</td>\n",
       "      <td>2021-01-31</td>\n",
       "      <td>1243914.98</td>\n",
       "    </tr>\n",
       "  </tbody>\n",
       "</table>\n",
       "</div>"
      ],
      "text/plain": [
       "   CONTRACT_KEY  ДАТАСРЕЗА  CURRENT_DEBT\n",
       "0          1462 2021-01-31    7962378.62\n",
       "1          1734 2021-01-31    1243914.98"
      ]
     },
     "execution_count": 17,
     "metadata": {},
     "output_type": "execute_result"
    }
   ],
   "source": [
    "# считаем Сумму текущей просрочки на каждую дату среза для всех договоров DM.DM_DETAILS_DAILY\n",
    "# лизинговые платежи имеют тип PAYMENT_ITEM_KEY = 9, именно по ним и будет считаться просрочка\n",
    "\n",
    "from datetime import datetime\n",
    "data_overdue = pd.DataFrame()\n",
    "\n",
    "sql_query =   \"\"\" SELECT CONTRACT_KEY,\n",
    "    :ДатаСреза ДатаСреза,\n",
    "   SUM(DEBT) CURRENT_DEBT -- \tСумма текущей просрочки на дату среза\n",
    "FROM\n",
    "  (SELECT CONTRACT_KEY,\n",
    "    PAYMENT_ITEM_KEY,\n",
    "    PAYMENT_NUM,\n",
    "    MAX(DEBT) DEBT\n",
    "  FROM\n",
    "    (SELECT DM.DM_DETAILS_DAILY.*,\n",
    "      FIRST_VALUE(PRE_PAY) OVER(PARTITION BY CONTRACT_KEY, PAYMENT_ITEM_KEY, PAYMENT_NUM, PLAN_PAY_DT_ORIG ORDER BY PAY_DT_ORIG) DEBT\n",
    "    FROM DM.DM_DETAILS_DAILY\n",
    "    WHERE PAYMENT_ITEM_KEY IN (  9)\n",
    "    AND (PAY_DT_ORIG        >    :ДатаСреза   OR PAY_DT_ORIG       IS NULL  OR PAY_FLG            = 0)\n",
    "     AND PLAN_PAY_DT_ORIG <=   :ДатаСреза    \n",
    "    )\n",
    "  GROUP BY CONTRACT_KEY,\n",
    "    PAYMENT_ITEM_KEY,\n",
    "    PAYMENT_NUM, PLAN_PAY_DT_ORIG \n",
    "  )\n",
    "GROUP BY CONTRACT_KEY\n",
    "  \"\"\"\n",
    "for index, row in tqdm(Dates.iterrows(), total=Dates.shape[0], colour= 'green'):\n",
    "    data_overdue = data_overdue.append(pd.read_sql(sql_query, cnxn, params={'ДатаСреза':row['Date']}))\n",
    "    # if index == 2: \n",
    "    #   break \n",
    "    \n",
    "print(data_overdue.shape)\n",
    "data_overdue.head(2)\n"
   ]
  },
  {
   "cell_type": "code",
   "execution_count": 18,
   "metadata": {},
   "outputs": [
    {
     "name": "stdout",
     "output_type": "stream",
     "text": [
      "(433034, 3)\n"
     ]
    }
   ],
   "source": [
    "# исключаем договора, с PAYMENT_NUM = 0 дающие ложноположительный результат\n",
    "data_overdue = data_overdue[~data_overdue.CONTRACT_KEY.isin(excluded.CONTRACT_KEY)]\n",
    "print(data_overdue.shape)"
   ]
  },
  {
   "cell_type": "code",
   "execution_count": 19,
   "metadata": {},
   "outputs": [
    {
     "data": {
      "text/html": [
       "<div>\n",
       "<style scoped>\n",
       "    .dataframe tbody tr th:only-of-type {\n",
       "        vertical-align: middle;\n",
       "    }\n",
       "\n",
       "    .dataframe tbody tr th {\n",
       "        vertical-align: top;\n",
       "    }\n",
       "\n",
       "    .dataframe thead th {\n",
       "        text-align: right;\n",
       "    }\n",
       "</style>\n",
       "<table border=\"1\" class=\"dataframe\">\n",
       "  <thead>\n",
       "    <tr style=\"text-align: right;\">\n",
       "      <th></th>\n",
       "      <th>CONTRACT_KEY</th>\n",
       "      <th>Date</th>\n",
       "      <th>CURRENT_DEBT</th>\n",
       "    </tr>\n",
       "  </thead>\n",
       "  <tbody>\n",
       "    <tr>\n",
       "      <th>0</th>\n",
       "      <td>706391</td>\n",
       "      <td>2021-01-31</td>\n",
       "      <td>NaN</td>\n",
       "    </tr>\n",
       "    <tr>\n",
       "      <th>1</th>\n",
       "      <td>706391</td>\n",
       "      <td>2021-02-28</td>\n",
       "      <td>NaN</td>\n",
       "    </tr>\n",
       "  </tbody>\n",
       "</table>\n",
       "</div>"
      ],
      "text/plain": [
       "   CONTRACT_KEY       Date  CURRENT_DEBT\n",
       "0        706391 2021-01-31           NaN\n",
       "1        706391 2021-02-28           NaN"
      ]
     },
     "execution_count": 19,
     "metadata": {},
     "output_type": "execute_result"
    }
   ],
   "source": [
    "# соединяем с вспомогательной таблицей Contracts_With_Dates \n",
    "# получаем таблицу с Сумма текущей просрочки на дату среза Date по CONTRACT_KEY\n",
    "contracts_overdue = pd.merge(Contracts_With_Dates, data_overdue, how='left', left_on=['CONTRACT_KEY', 'Date'], right_on=['CONTRACT_KEY', 'ДАТАСРЕЗА']).drop('ДАТАСРЕЗА', axis = 1)\n",
    "Check_length(contracts_overdue.shape[0], Contracts_With_Dates.shape[0])\n",
    "contracts_overdue.head(2)\n",
    "# contracts_overdue[contracts_overdue['CURRENT_DEBT']>0]"
   ]
  },
  {
   "cell_type": "code",
   "execution_count": 20,
   "metadata": {
    "scrolled": true
   },
   "outputs": [
    {
     "name": "stdout",
     "output_type": "stream",
     "text": [
      "(801120, 17)\n"
     ]
    },
    {
     "data": {
      "text/html": [
       "<div>\n",
       "<style scoped>\n",
       "    .dataframe tbody tr th:only-of-type {\n",
       "        vertical-align: middle;\n",
       "    }\n",
       "\n",
       "    .dataframe tbody tr th {\n",
       "        vertical-align: top;\n",
       "    }\n",
       "\n",
       "    .dataframe thead th {\n",
       "        text-align: right;\n",
       "    }\n",
       "</style>\n",
       "<table border=\"1\" class=\"dataframe\">\n",
       "  <thead>\n",
       "    <tr style=\"text-align: right;\">\n",
       "      <th></th>\n",
       "      <th>CONTRACT_KEY</th>\n",
       "      <th>Date</th>\n",
       "      <th>CURRENT_DEBT</th>\n",
       "      <th>DEBT_-1</th>\n",
       "      <th>DEBT_-2</th>\n",
       "      <th>DEBT_-3</th>\n",
       "      <th>DEBT_-4</th>\n",
       "      <th>DEBT_-5</th>\n",
       "      <th>DEBT_-6</th>\n",
       "      <th>DEBT_-7</th>\n",
       "      <th>DEBT_-8</th>\n",
       "      <th>DEBT_-9</th>\n",
       "      <th>DEBT_-10</th>\n",
       "      <th>DEBT_-11</th>\n",
       "      <th>MAX_3</th>\n",
       "      <th>MAX_6</th>\n",
       "      <th>MAX_12</th>\n",
       "    </tr>\n",
       "  </thead>\n",
       "  <tbody>\n",
       "    <tr>\n",
       "      <th>793559</th>\n",
       "      <td>1557242</td>\n",
       "      <td>2022-12-31</td>\n",
       "      <td>2138440.85</td>\n",
       "      <td>1710752.68</td>\n",
       "      <td>1283064.51</td>\n",
       "      <td>855376.34</td>\n",
       "      <td>427688.17</td>\n",
       "      <td>0.0</td>\n",
       "      <td>0.0</td>\n",
       "      <td>0.0</td>\n",
       "      <td>0.0</td>\n",
       "      <td>0.0</td>\n",
       "      <td>0.0</td>\n",
       "      <td>0.0</td>\n",
       "      <td>2138440.85</td>\n",
       "      <td>2138440.85</td>\n",
       "      <td>2138440.85</td>\n",
       "    </tr>\n",
       "    <tr>\n",
       "      <th>793558</th>\n",
       "      <td>1557242</td>\n",
       "      <td>2022-11-30</td>\n",
       "      <td>1710752.68</td>\n",
       "      <td>1283064.51</td>\n",
       "      <td>855376.34</td>\n",
       "      <td>427688.17</td>\n",
       "      <td>0.00</td>\n",
       "      <td>0.0</td>\n",
       "      <td>0.0</td>\n",
       "      <td>0.0</td>\n",
       "      <td>0.0</td>\n",
       "      <td>0.0</td>\n",
       "      <td>0.0</td>\n",
       "      <td>0.0</td>\n",
       "      <td>1710752.68</td>\n",
       "      <td>1710752.68</td>\n",
       "      <td>1710752.68</td>\n",
       "    </tr>\n",
       "  </tbody>\n",
       "</table>\n",
       "</div>"
      ],
      "text/plain": [
       "        CONTRACT_KEY       Date  CURRENT_DEBT     DEBT_-1     DEBT_-2  \\\n",
       "793559       1557242 2022-12-31    2138440.85  1710752.68  1283064.51   \n",
       "793558       1557242 2022-11-30    1710752.68  1283064.51   855376.34   \n",
       "\n",
       "          DEBT_-3    DEBT_-4  DEBT_-5  DEBT_-6  DEBT_-7  DEBT_-8  DEBT_-9  \\\n",
       "793559  855376.34  427688.17      0.0      0.0      0.0      0.0      0.0   \n",
       "793558  427688.17       0.00      0.0      0.0      0.0      0.0      0.0   \n",
       "\n",
       "        DEBT_-10  DEBT_-11       MAX_3       MAX_6      MAX_12  \n",
       "793559       0.0       0.0  2138440.85  2138440.85  2138440.85  \n",
       "793558       0.0       0.0  1710752.68  1710752.68  1710752.68  "
      ]
     },
     "execution_count": 20,
     "metadata": {},
     "output_type": "execute_result"
    }
   ],
   "source": [
    "# Расчитываем для каждой строки сумму просрочки за -1 (DEBT_-1), -2 (DEBT_-2), -3, -4 до -11(DEBT_-11) месяцев \n",
    "# и находим максимум за последние 3, 6 и 12 месяцев до даты среза \n",
    "contracts_overdue.sort_values(by = ['CONTRACT_KEY', 'Date'], ascending=[False, False], inplace=True)\n",
    "for i in range(1, 12):\n",
    "    col = 'DEBT_-'+str(i)\n",
    "    contracts_overdue[col] = contracts_overdue.groupby(['CONTRACT_KEY'])['CURRENT_DEBT'].shift(-i)\n",
    "\n",
    "contracts_overdue.fillna(0, inplace=True)\n",
    "\n",
    "contracts_overdue[\"MAX_3\"]  = contracts_overdue[[\"CURRENT_DEBT\", \"DEBT_-1\", \"DEBT_-2\"]].max(axis=1)\n",
    "contracts_overdue[\"MAX_6\"]  = contracts_overdue[[\"CURRENT_DEBT\", \"DEBT_-1\", \"DEBT_-2\", \"DEBT_-3\", \"DEBT_-4\", \"DEBT_-5\"]].max(axis=1)\n",
    "contracts_overdue[\"MAX_12\"] = contracts_overdue[[\"CURRENT_DEBT\", \"DEBT_-1\", \"DEBT_-2\", \"DEBT_-3\", \"DEBT_-4\", \"DEBT_-5\", \n",
    "                                   \"DEBT_-6\", \"DEBT_-7\", \"DEBT_-8\", \"DEBT_-9\", \"DEBT_-10\", \"DEBT_-11\"]].max(axis=1)\n",
    "\n",
    "print(contracts_overdue.shape)\n",
    "contracts_overdue.head(2)\n"
   ]
  },
  {
   "cell_type": "markdown",
   "metadata": {},
   "source": [
    "##### Шаг 4. считаем  максимальная длительность оплаченной просрочки и дата последней оплаченной просрочки"
   ]
  },
  {
   "cell_type": "code",
   "execution_count": 21,
   "metadata": {},
   "outputs": [
    {
     "name": "stderr",
     "output_type": "stream",
     "text": [
      "100%|\u001b[32m██████████\u001b[0m| 24/24 [02:40<00:00,  6.69s/it]"
     ]
    },
    {
     "name": "stdout",
     "output_type": "stream",
     "text": [
      "(3366881, 4)\n"
     ]
    },
    {
     "name": "stderr",
     "output_type": "stream",
     "text": [
      "\n"
     ]
    },
    {
     "data": {
      "text/html": [
       "<div>\n",
       "<style scoped>\n",
       "    .dataframe tbody tr th:only-of-type {\n",
       "        vertical-align: middle;\n",
       "    }\n",
       "\n",
       "    .dataframe tbody tr th {\n",
       "        vertical-align: top;\n",
       "    }\n",
       "\n",
       "    .dataframe thead th {\n",
       "        text-align: right;\n",
       "    }\n",
       "</style>\n",
       "<table border=\"1\" class=\"dataframe\">\n",
       "  <thead>\n",
       "    <tr style=\"text-align: right;\">\n",
       "      <th></th>\n",
       "      <th>CONTRACT_KEY</th>\n",
       "      <th>ДАТАСРЕЗА</th>\n",
       "      <th>MAX_PAID_OVERDUE</th>\n",
       "      <th>LAST_PAID_DT_ORIG</th>\n",
       "    </tr>\n",
       "  </thead>\n",
       "  <tbody>\n",
       "    <tr>\n",
       "      <th>0</th>\n",
       "      <td>1316</td>\n",
       "      <td>2021-01-31</td>\n",
       "      <td>2</td>\n",
       "      <td>2017-06-26</td>\n",
       "    </tr>\n",
       "    <tr>\n",
       "      <th>1</th>\n",
       "      <td>1421</td>\n",
       "      <td>2021-01-31</td>\n",
       "      <td>86</td>\n",
       "      <td>2015-12-14</td>\n",
       "    </tr>\n",
       "  </tbody>\n",
       "</table>\n",
       "</div>"
      ],
      "text/plain": [
       "   CONTRACT_KEY  ДАТАСРЕЗА  MAX_PAID_OVERDUE LAST_PAID_DT_ORIG\n",
       "0          1316 2021-01-31                 2        2017-06-26\n",
       "1          1421 2021-01-31                86        2015-12-14"
      ]
     },
     "execution_count": 21,
     "metadata": {},
     "output_type": "execute_result"
    }
   ],
   "source": [
    "# считаем максимальная длительность оплаченной просрочки и дата последней оплаченной просрочки \n",
    "# на каждую дату среза для всех договоров DM.DM_DETAILS_DAILY\n",
    "\n",
    "from datetime import datetime\n",
    "last_overdue = pd.DataFrame()\n",
    "\n",
    "sql_query =   \"\"\"SELECT CONTRACT_KEY,\n",
    "  :ДатаСреза ДатаСреза,\n",
    "  MAX(PAY_DT_ORIG - PLAN_PAY_DT_ORIG) AS MAX_PAID_OVERDUE, -- максимальная длительность оплаченной просрочки\n",
    "  MAX(PAY_DT_ORIG)                    AS LAST_PAID_DT_ORIG -- дата последней оплаченной просрочки\n",
    "FROM  (\n",
    "SELECT\n",
    "    CONTRACT_KEY,\n",
    "    PAYMENT_ITEM_KEY,  PAYMENT_NUM,\n",
    "    MIN(PLAN_PAY_DT_ORIG) as PLAN_PAY_DT_ORIG, \n",
    "    CASE WHEN MAX(FLAG_NOTPAID) >0 THEN NULL ELSE MAX(PAY_DT_ORIG) END     AS PAY_DT_ORIG, \n",
    "    MAX(FLAG_NOTPAID) as FLAG_NOTPAID\n",
    "    FROM\n",
    "    (\n",
    "SELECT CONTRACT_KEY,\n",
    "    PAYMENT_NUM,\n",
    "    PAYMENT_ITEM_KEY,\n",
    "    PLAN_PAY_DT_ORIG AS PLAN_PAY_DT_ORIG,\n",
    "    CASE WHEN PAY_DT_ORIG > &ДатаСреза THEN NULL ELSE PAY_DT_ORIG END as PAY_DT_ORIG,\n",
    "    CASE WHEN PAY_DT_ORIG > &ДатаСреза THEN 1 WHEN PAY_DT_ORIG IS NULL THEN 1  ELSE 0 END as FLAG_NOTPAID\n",
    "   FROM DM.DM_DETAILS_DAILY\n",
    "  WHERE \n",
    "  PAYMENT_ITEM_KEY = 9\n",
    "  AND (PAY_DT_ORIG > &ДатаСреза OR  PAY_DT_ORIG  IS NULL OR PAY_DT_ORIG > PLAN_PAY_DT_ORIG or PAY_FLG = 0)\n",
    "  AND PLAN_PAY_DT_ORIG <= &ДатаСреза \n",
    "  AND PLAN_AMT IS NOT NULL\n",
    ")\n",
    "GROUP BY CONTRACT_KEY,PAYMENT_ITEM_KEY,  PAYMENT_NUM)\n",
    "WHERE \n",
    "FLAG_NOTPAID = 0\n",
    "GROUP BY CONTRACT_KEY\"\"\"\n",
    "\n",
    "for index, row in tqdm(Dates.iterrows(), total=Dates.shape[0], colour= 'green'):\n",
    "    last_overdue = last_overdue.append(pd.read_sql(sql_query, cnxn, params={'ДатаСреза':row['Date']}))\n",
    "    # if index == 2: \n",
    "    #       break \n",
    "    \n",
    "print(last_overdue.shape)\n",
    "last_overdue.head(2)"
   ]
  },
  {
   "cell_type": "code",
   "execution_count": 22,
   "metadata": {},
   "outputs": [
    {
     "name": "stdout",
     "output_type": "stream",
     "text": [
      "(3361662, 4)\n"
     ]
    }
   ],
   "source": [
    "# исключаем договора, с PAYMENT_NUM = 0 дающие ложноположительный результат\n",
    "last_overdue = last_overdue[~last_overdue.CONTRACT_KEY.isin(excluded.CONTRACT_KEY)]\n",
    "print(last_overdue.shape)"
   ]
  },
  {
   "cell_type": "markdown",
   "metadata": {},
   "source": [
    "##### Шаг 5. считаем  Дата начала текущей просрочки и Количество дней просроченных платежей текущей задолженности"
   ]
  },
  {
   "cell_type": "code",
   "execution_count": 23,
   "metadata": {},
   "outputs": [
    {
     "name": "stderr",
     "output_type": "stream",
     "text": [
      "100%|\u001b[32m██████████\u001b[0m| 24/24 [01:13<00:00,  3.07s/it]"
     ]
    },
    {
     "name": "stdout",
     "output_type": "stream",
     "text": [
      "(433343, 4)\n"
     ]
    },
    {
     "name": "stderr",
     "output_type": "stream",
     "text": [
      "\n"
     ]
    },
    {
     "data": {
      "text/html": [
       "<div>\n",
       "<style scoped>\n",
       "    .dataframe tbody tr th:only-of-type {\n",
       "        vertical-align: middle;\n",
       "    }\n",
       "\n",
       "    .dataframe tbody tr th {\n",
       "        vertical-align: top;\n",
       "    }\n",
       "\n",
       "    .dataframe thead th {\n",
       "        text-align: right;\n",
       "    }\n",
       "</style>\n",
       "<table border=\"1\" class=\"dataframe\">\n",
       "  <thead>\n",
       "    <tr style=\"text-align: right;\">\n",
       "      <th></th>\n",
       "      <th>CONTRACT_KEY</th>\n",
       "      <th>ДАТАСРЕЗА</th>\n",
       "      <th>STARTOVERDUE</th>\n",
       "      <th>OVERDUE</th>\n",
       "    </tr>\n",
       "  </thead>\n",
       "  <tbody>\n",
       "    <tr>\n",
       "      <th>0</th>\n",
       "      <td>1462</td>\n",
       "      <td>2021-01-31</td>\n",
       "      <td>2016-07-10</td>\n",
       "      <td>1666</td>\n",
       "    </tr>\n",
       "    <tr>\n",
       "      <th>1</th>\n",
       "      <td>1734</td>\n",
       "      <td>2021-01-31</td>\n",
       "      <td>2016-08-03</td>\n",
       "      <td>1642</td>\n",
       "    </tr>\n",
       "  </tbody>\n",
       "</table>\n",
       "</div>"
      ],
      "text/plain": [
       "   CONTRACT_KEY  ДАТАСРЕЗА STARTOVERDUE  OVERDUE\n",
       "0          1462 2021-01-31   2016-07-10     1666\n",
       "1          1734 2021-01-31   2016-08-03     1642"
      ]
     },
     "execution_count": 23,
     "metadata": {},
     "output_type": "execute_result"
    }
   ],
   "source": [
    "# считаем  дата начала текущей просрочки и количество дней просроченных платежей текущей задоленности \n",
    "# на каждую дату среза для всех договоров DM.DM_DETAILS_DAILY\n",
    "\n",
    "from datetime import datetime\n",
    "current_overdue = pd.DataFrame()\n",
    "\n",
    "sql_query =   \"\"\"SELECT CONTRACT_KEY, \n",
    "    :ДатаСреза ДатаСреза,\n",
    "    MIN(PLAN_PAY_DT_ORIG)       AS StartOVERDUE, -- дата начала текущей просрочки\n",
    "  &ДатаСреза-MIN(PLAN_PAY_DT_ORIG) AS OVERDUE -- количество дней просроченных платежей текущей задоленности\n",
    "FROM  (\n",
    "SELECT\n",
    "    CONTRACT_KEY,\n",
    "    PAYMENT_ITEM_KEY,  PAYMENT_NUM,\n",
    "    MIN(PLAN_PAY_DT_ORIG) as PLAN_PAY_DT_ORIG, \n",
    "    CASE WHEN MAX(FLAG_NOTPAID) >0 THEN NULL ELSE MAX(PAY_DT_ORIG) END     AS PAY_DT_ORIG, \n",
    "    MAX(FLAG_NOTPAID) as FLAG_NOTPAID\n",
    "    FROM\n",
    "    (\n",
    "SELECT CONTRACT_KEY,\n",
    "    PAYMENT_NUM,\n",
    "    PAYMENT_ITEM_KEY,\n",
    "    PLAN_PAY_DT_ORIG AS PLAN_PAY_DT_ORIG,\n",
    "    CASE WHEN PAY_DT_ORIG > &ДатаСреза THEN NULL ELSE PAY_DT_ORIG END as PAY_DT_ORIG,\n",
    "    CASE WHEN PAY_DT_ORIG > &ДатаСреза THEN 1 WHEN PAY_DT_ORIG IS NULL THEN 1  ELSE 0 END as FLAG_NOTPAID\n",
    "   FROM DM.DM_DETAILS_DAILY\n",
    "  WHERE \n",
    "  PAYMENT_ITEM_KEY = 9\n",
    "  AND (PAY_DT_ORIG > &ДатаСреза OR  PAY_DT_ORIG  IS NULL OR PAY_DT_ORIG > PLAN_PAY_DT_ORIG or PAY_FLG = 0)\n",
    "  AND PLAN_PAY_DT_ORIG <= &ДатаСреза \n",
    "  AND PLAN_AMT IS NOT NULL\n",
    ")\n",
    "GROUP BY CONTRACT_KEY,PAYMENT_ITEM_KEY,  PAYMENT_NUM)\n",
    "WHERE FLAG_NOTPAID = 1\n",
    "GROUP BY CONTRACT_KEY\"\"\"\n",
    "\n",
    "for index, row in tqdm(Dates.iterrows(), total=Dates.shape[0], colour= 'green'):\n",
    "    current_overdue = current_overdue.append(pd.read_sql(sql_query, cnxn, params={'ДатаСреза':row['Date']}))\n",
    "#     if index == 2: \n",
    "#          break \n",
    "    \n",
    "print(current_overdue.shape)\n",
    "current_overdue.head(2)"
   ]
  },
  {
   "cell_type": "code",
   "execution_count": 24,
   "metadata": {},
   "outputs": [
    {
     "name": "stdout",
     "output_type": "stream",
     "text": [
      "(433034, 4)\n"
     ]
    }
   ],
   "source": [
    "# исключаем договора, с PAYMENT_NUM = 0 дающие ложноположительный результат\n",
    "current_overdue = current_overdue[~current_overdue.CONTRACT_KEY.isin(excluded.CONTRACT_KEY)]\n",
    "print(current_overdue.shape)"
   ]
  },
  {
   "cell_type": "markdown",
   "metadata": {},
   "source": [
    "##### Шаг 6.  Количество оплаченных лизинговых платежей"
   ]
  },
  {
   "cell_type": "code",
   "execution_count": 25,
   "metadata": {},
   "outputs": [
    {
     "name": "stderr",
     "output_type": "stream",
     "text": [
      "100%|\u001b[32m██████████\u001b[0m| 24/24 [03:13<00:00,  8.08s/it]"
     ]
    },
    {
     "name": "stdout",
     "output_type": "stream",
     "text": [
      "(5195184, 3)\n"
     ]
    },
    {
     "name": "stderr",
     "output_type": "stream",
     "text": [
      "\n"
     ]
    },
    {
     "data": {
      "text/html": [
       "<div>\n",
       "<style scoped>\n",
       "    .dataframe tbody tr th:only-of-type {\n",
       "        vertical-align: middle;\n",
       "    }\n",
       "\n",
       "    .dataframe tbody tr th {\n",
       "        vertical-align: top;\n",
       "    }\n",
       "\n",
       "    .dataframe thead th {\n",
       "        text-align: right;\n",
       "    }\n",
       "</style>\n",
       "<table border=\"1\" class=\"dataframe\">\n",
       "  <thead>\n",
       "    <tr style=\"text-align: right;\">\n",
       "      <th></th>\n",
       "      <th>CONTRACT_KEY</th>\n",
       "      <th>ДАТАСРЕЗА</th>\n",
       "      <th>LAST_PAYMENT_NUM</th>\n",
       "    </tr>\n",
       "  </thead>\n",
       "  <tbody>\n",
       "    <tr>\n",
       "      <th>0</th>\n",
       "      <td>1320</td>\n",
       "      <td>2021-01-31</td>\n",
       "      <td>48</td>\n",
       "    </tr>\n",
       "    <tr>\n",
       "      <th>1</th>\n",
       "      <td>1327</td>\n",
       "      <td>2021-01-31</td>\n",
       "      <td>32</td>\n",
       "    </tr>\n",
       "  </tbody>\n",
       "</table>\n",
       "</div>"
      ],
      "text/plain": [
       "   CONTRACT_KEY  ДАТАСРЕЗА  LAST_PAYMENT_NUM\n",
       "0          1320 2021-01-31                48\n",
       "1          1327 2021-01-31                32"
      ]
     },
     "execution_count": 25,
     "metadata": {},
     "output_type": "execute_result"
    }
   ],
   "source": [
    "# считаем количество оплаченных лизинговый \n",
    "# отдельно по авансу WHEN PAYMENT_ITEM_KEY = 8 и лизинговым платежам PAYMENT_ITEM_KEY = 9\n",
    "\n",
    "from datetime import datetime\n",
    "paidnum_table = pd.DataFrame()\n",
    "\n",
    "sql_query =   \"\"\"SELECT CONTRACT_KEY,\n",
    "  :ДатаСреза ДатаСреза,\n",
    "  MAX(PAYMENT_NUM) AS LAST_PAYMENT_NUM -- количество оплаченных лизинговый платеж\n",
    "FROM\n",
    "  (SELECT CONTRACT_KEY,\n",
    "    PAYMENT_NUM,\n",
    "    MIN(AFTER_PAY) AS AFTER_PAY\n",
    "  FROM\n",
    "    (SELECT CONTRACT_KEY,\n",
    "      PAYMENT_NUM,\n",
    "      PAYMENT_ITEM_KEY,\n",
    "      PLAN_PAY_DT_ORIG,\n",
    "      PAY_DT_ORIG,\n",
    "      PLAN_AMT,\n",
    "      CASE WHEN PAYMENT_ITEM_KEY = 8 THEN FACT_PAY_AMT ELSE 0 END AS PrePay,\n",
    "      CASE WHEN PAYMENT_ITEM_KEY = 9 THEN FACT_PAY_AMT ELSE 0 END AS LeasingPAY,\n",
    "      AFTER_PAY\n",
    "    FROM DM.DM_DETAILS_DAILY\n",
    "    WHERE PAYMENT_ITEM_KEY IN (8, 9)\n",
    "    AND PAY_DT_ORIG <= &ДатаСреза AND PAY_FLG = 1\n",
    "    )\n",
    "  WHERE PAYMENT_ITEM_KEY = 9\n",
    "  GROUP BY CONTRACT_KEY, PAYMENT_NUM\n",
    "  HAVING MIN(AFTER_PAY)<=0\n",
    "  )\n",
    "GROUP BY CONTRACT_KEY\"\"\"\n",
    "\n",
    "for index, row in tqdm(Dates.iterrows(), total=Dates.shape[0], colour= 'green'):\n",
    "    paidnum_table = paidnum_table.append(pd.read_sql(sql_query, cnxn, params={'ДатаСреза':row['Date']}))\n",
    "    # if index == 2: \n",
    "    #      break \n",
    "    \n",
    "print(paidnum_table.shape)\n",
    "paidnum_table.head(2)"
   ]
  },
  {
   "cell_type": "markdown",
   "metadata": {},
   "source": [
    "##### Шаг 7.  Соединяем все рассчитанные поля с портфелем и записываем в файлы\n"
   ]
  },
  {
   "cell_type": "code",
   "execution_count": 26,
   "metadata": {},
   "outputs": [],
   "source": [
    "# Проверка длины ИНН. Нужно чтоб было 12 цифр для физ лиц и 10 цифр для юр лиц\n",
    "def Exam_INN(df):\n",
    "    res = True\n",
    "    inn = df[~df['INN'].str.len().isin([12, 10])]\n",
    "    if inn.shape[0] != 0:\n",
    "        print(\"ОШИБКА Срез {0}. {1} ошибок в длине ИНН. Например, CONTRACT_KEY = {2}\".format(table, \n",
    "                                                    inn.shape[0], inn.iloc[0]['CONTRACT_KEY'], ))\n",
    "        res = False\n",
    "    return res"
   ]
  },
  {
   "cell_type": "code",
   "execution_count": 27,
   "metadata": {},
   "outputs": [],
   "source": [
    "def initial_portfolio():\n",
    "    return \"\"\"select CONTRACT_KEY,\n",
    "        SLICE_DT,\n",
    "        STATUS_DT,\n",
    "        STATUS_DESC,\n",
    "        CONTRACT_NUM,\n",
    "        OPEN_DT,\n",
    "        CLOSE_DT,\n",
    "        NEW_CLIENTNAME,\n",
    "        NEW_CLIENT,\n",
    "        NEW_CONTRACTID,\n",
    "        NEW_LEASOBJECT,\n",
    "        NEW_NUMBER_DKP,\n",
    "        CARBREND,\n",
    "        CARMODEL,\n",
    "        QUOTEID,\n",
    "        NEW_SROK,\n",
    "        INN,\n",
    "        OKVED,\n",
    "        GROUPID,\n",
    "        GROUPNAME,\n",
    "        EQUIPMENT,\n",
    "        DOP_IN_PRICE,\n",
    "        COUNTRYIDNAME,\n",
    "        CARCREATEYEAR,\n",
    "        PURPOSE,\n",
    "        SUPPLIERNAME,\n",
    "        PRODUCTNAME,\n",
    "        SUBPRODUCTNAME,\n",
    "        OPPORTUNITYID,\n",
    "        NEW_GROUP,\n",
    "        NEW_PAIDTYPENAME,\n",
    "        NEW_TOTALGRSUM,\n",
    "        NEW_SUMWITHOUTADVPAYMENT,\n",
    "        NEW_COUNTBYINGSUM,\n",
    "        NEW_PLWITHOUTNDS,\n",
    "        NEW_SUMRESULT,\n",
    "        NEW_SUMMWITHDKP,\n",
    "        NEW_PLNDOPDS,\n",
    "        NEW_KO,\n",
    "        NEW_AGENTFL,\n",
    "        NEW_ADVPAYMENT\n",
    "            FROM YBOGOVICH.SSS\"\"\""
   ]
  },
  {
   "cell_type": "code",
   "execution_count": 28,
   "metadata": {},
   "outputs": [],
   "source": [
    "def dict_rename_columns():\n",
    "    return {'CONTRACT_KEY':'Ключ договора'\n",
    ",'SLICE_DT':'Дата среза'\n",
    ",'STATUS_DT':'Дата статуса самая ближайшая дате среза и меньше неё'\n",
    ",'STATUS_DESC':'Статус на дату среза'\n",
    ",'CONTRACT_NUM':'Номер договора лизинга'\n",
    ",'OPEN_DT':'Дата договора лизинга'\n",
    ",'CLOSE_DT':'Планируемая дата закрытия'\n",
    ",'NEW_CLIENTNAME':'Наименование лизингополучателя'\n",
    ",'NEW_CLIENT':'ID лизингополучателя'\n",
    ",'NEW_CONTRACTID':'ID договора лизинга'\n",
    ",'NEW_LEASOBJECT':'ID ТС'\n",
    ",'NEW_NUMBER_DKP':'Договор купли-продажи'\n",
    ",'CARBREND':'Марка ТС'\n",
    ",'CARMODEL':'Модель ТС'\n",
    ",'QUOTEID':'ID предложения'\n",
    ",'NEW_SROK':'Срок лизинга'\n",
    ",'INN':'ИНН'\n",
    ",'OKVED':'Код ОКВЭД'\n",
    ",'GROUPID':'ID группы компаний'\n",
    ",'GROUPNAME':'Наименование группы компаний'\n",
    ",'EQUIPMENT':'Наличие дополнительного оборудования'\n",
    ",'DOP_IN_PRICE':'Дополнительное оборудование включено в стоимость'\n",
    ",'COUNTRYIDNAME':'Страна марки'\n",
    ",'CARCREATEYEAR':'Год выпуска ТС'\n",
    ",'PURPOSE':'Цель приобретения ТС'\n",
    ",'SUPPLIERNAME':'Наименование поставщика'\n",
    ",'PRODUCTNAME':'Продукт'\n",
    ",'SUBPRODUCTNAME':'Субпродукт'\n",
    ",'OPPORTUNITYID':'ID лизинговой сделки'\n",
    ",'NEW_GROUP':'Ликвидность ТС'\n",
    ",'NEW_PAIDTYPENAME':'Вид лизинговых платежей '\n",
    ",'NEW_TOTALGRSUM':'Общая сумма платежей по графику, в т.ч. НДС '\n",
    ",'NEW_SUMWITHOUTADVPAYMENT':'Итого по графику без учета аванса, в т.ч. НДС '\n",
    ",'NEW_COUNTBYINGSUM':'Выкупная стоимость в расчет, рубли '\n",
    ",'NEW_PLWITHOUTNDS':'Стоимость ПЛ за вычетом НДС '\n",
    ",'NEW_SUMRESULT':'Итоговая сумма с НДС '\n",
    ",'NEW_SUMMWITHDKP':'Стоимость имущества за вычетом НДС в валюте ДКП'\n",
    ",'NEW_PLNDOPDS':'Стоимость имущества к расчету по ДКП, в т.ч. НДС '\n",
    ",'NEW_KO':'Сумма скидки '\n",
    ",'NEW_AGENTFL':'Аванс ЛП, % '\n",
    ",'NEW_ADVPAYMENT':'Сумма Авансового платежа, подлежащего уплате '\n",
    ",'MAX_PAID_OVERDUE':'Максимальная длительность оплаченной просрочки'\n",
    ",'LAST_PAID_DT_ORIG':'Дата последней оплаченной просрочки'\n",
    ",'STARTOVERDUE':'Дата начала текущей просрочки'\n",
    ",'OVERDUE':'Количество дней просроченных платежей текущей задоленности'\n",
    ",'LAST_PAYMENT_NUM':'Количество оплаченных лизинговых платежей'\n",
    ",'CURRENT_DEBT':'Сумма текущей задолженности'}"
   ]
  },
  {
   "cell_type": "code",
   "execution_count": 29,
   "metadata": {},
   "outputs": [],
   "source": [
    "def FormatData(col):\n",
    "    result[col] = result[col].astype(str)\n",
    "    pattern_for_int = r'0001-01-01' #  пустая дата. заменяем ее на значение np.nan. Для дальнейшего перевода в формат даты\n",
    "    result.loc[result[col].str.match(pattern_for_int, flags = re.I)==True, col] = np.nan\n",
    "    result[col] = pd.to_datetime(result[col], format='%Y.%m.%d')"
   ]
  },
  {
   "cell_type": "code",
   "execution_count": 30,
   "metadata": {},
   "outputs": [
    {
     "name": "stderr",
     "output_type": "stream",
     "text": [
      "100%|\u001b[32m██████████\u001b[0m| 7/7 [00:43<00:00,  6.26s/it]\n"
     ]
    }
   ],
   "source": [
    "contracts_overdue = contracts_overdue[['CONTRACT_KEY', 'Date', 'CURRENT_DEBT', 'MAX_3', 'MAX_6', 'MAX_12']]\n",
    "\n",
    "sql_query = initial_portfolio()\n",
    "new_names = dict_rename_columns()\n",
    "\n",
    "for table in tqdm(tables, colour= 'green'):\n",
    "    query = sql_query.replace('SSS', table);\n",
    "    data = pd.read_sql(query, cnxn)\n",
    "    result = (pd.merge(data, last_overdue, how='left', left_on=['CONTRACT_KEY', 'SLICE_DT'], \n",
    "                      right_on=['CONTRACT_KEY', 'ДАТАСРЕЗА']).drop('ДАТАСРЕЗА', axis = 1).\n",
    "              merge(current_overdue, how='left', left_on=['CONTRACT_KEY', 'SLICE_DT'], \n",
    "                      right_on=['CONTRACT_KEY', 'ДАТАСРЕЗА']).drop('ДАТАСРЕЗА', axis = 1).\n",
    "              merge(paidnum_table, how='left', left_on=['CONTRACT_KEY', 'SLICE_DT'], \n",
    "                      right_on=['CONTRACT_KEY', 'ДАТАСРЕЗА']).drop('ДАТАСРЕЗА', axis = 1).\n",
    "              merge(contracts_overdue, how='left', left_on=['CONTRACT_KEY', 'SLICE_DT'], \n",
    "                      right_on=['CONTRACT_KEY', 'Date']).drop('Date', axis = 1))\n",
    "\n",
    "    Check_length(data.shape[0], result.shape[0])\n",
    "    Exam_INN(result) # проверка длины ИНН\n",
    "    FormatData('CLOSE_DT')  # меняем у данных формат со строки на дату\n",
    "\n",
    "\n",
    "\n",
    "    name = \"SUMMARY\\\\\" + \"portfolio_\" + table[10:14] + table[8:10] + table[6:8]\n",
    "    result.rename(columns = new_names, inplace = True)\n",
    "#     result.to_csv(name+\".csv\", sep=\";\", index = False,  date_format='%d.%m.%Y', encoding=\"utf-8\", decimal=',')\n",
    "    result.to_csv(name+\".csv\", sep=\";\", index = False,  date_format='%Y.%m.%d', encoding=\"utf-8\", decimal=',')\n",
    "    "
   ]
  },
  {
   "cell_type": "code",
   "execution_count": 31,
   "metadata": {},
   "outputs": [],
   "source": [
    "cnxn.close()"
   ]
  },
  {
   "cell_type": "code",
   "execution_count": 35,
   "metadata": {},
   "outputs": [],
   "source": [
    "# result.info()"
   ]
  },
  {
   "cell_type": "markdown",
   "metadata": {},
   "source": [
    "##### Комментарии"
   ]
  },
  {
   "cell_type": "markdown",
   "metadata": {},
   "source": [
    "CONTRACT_KEY = 954294\n",
    "PURPOSE = '... ПАО «Новатэ́к»...'\n",
    "содержит символы, которые не могут быть записаны в кодировке \"windows-1251\", поэтому кодировка менятся на \"utf-8\"\n"
   ]
  },
  {
   "cell_type": "code",
   "execution_count": 33,
   "metadata": {},
   "outputs": [],
   "source": [
    "def identify_duplicates(df, columns):\n",
    "    \"\"\"identifies duplicates in columns of DataFrame\n",
    "\n",
    "    Args:\n",
    "        df ([DataFrame]): DataFrame\n",
    "        columns ([list]): list of columns\n",
    "\n",
    "    Returns:\n",
    "        num: [int] \n",
    "            number of duplicate rows \n",
    "        DataFrame  \n",
    "            A DataFrame consisting of repeated rows in the specified columns\n",
    "    \"\"\"\n",
    " \n",
    "    rows = df.groupby(columns).size().reset_index()\n",
    "    rows.rename({0: 'row_nums'}, axis = 1, inplace = True)\n",
    "\n",
    "    dupl = rows[rows['row_nums'] > 1] # дубликаты\n",
    "    \n",
    "    return len(dupl), pd.merge(df, dupl, how = 'inner', on = columns)"
   ]
  },
  {
   "cell_type": "code",
   "execution_count": 34,
   "metadata": {},
   "outputs": [],
   "source": [
    "# # определяем дубликаты по CONTRACT_KEY в исходных таблицах\n",
    "# sql_query = initial_portfolio()\n",
    "\n",
    "# for table in tables:\n",
    "#     query = sql_query.replace('SSS', table);\n",
    "#     data = pd.read_sql(query, cnxn)\n",
    "#     num, duplicates = identify_duplicates(data, ['CONTRACT_KEY'])\n",
    "#     print('table = {0}, количество дубликатов {1}'.format(table, num)) \n",
    "    "
   ]
  },
  {
   "cell_type": "code",
   "execution_count": null,
   "metadata": {},
   "outputs": [],
   "source": []
  }
 ],
 "metadata": {
  "interpreter": {
   "hash": "ad2bdc8ecc057115af97d19610ffacc2b4e99fae6737bb82f5d7fb13d2f2c186"
  },
  "kernelspec": {
   "display_name": "Python 3.7.13 ('base')",
   "language": "python",
   "name": "python3"
  },
  "language_info": {
   "codemirror_mode": {
    "name": "ipython",
    "version": 3
   },
   "file_extension": ".py",
   "mimetype": "text/x-python",
   "name": "python",
   "nbconvert_exporter": "python",
   "pygments_lexer": "ipython3",
   "version": "3.7.13"
  }
 },
 "nbformat": 4,
 "nbformat_minor": 4
}
